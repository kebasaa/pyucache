{
 "cells": [
  {
   "cell_type": "markdown",
   "id": "bd7f7631-afd1-4ee0-acc2-b731de41e6f9",
   "metadata": {
    "tags": []
   },
   "source": [
    "# Examples of setup and data download from Apogee μCache AT-100 datalogger\n",
    "\n",
    "Python script to connect to the [Apogee μCache AT-100 datalogger](https://www.apogeeinstruments.com/microcache-bluetooth-micro-logger/) that makes precision environmental measurements using Apogee’s analog sensors. This script is meant for periodical data collection, while the μCache does internal datalogging. It also verifies the battery charge.\n",
    "\n",
    "### Dependencies\n",
    "- Bleak (v. 0.16, available in conda-forge. Note: Current version is 0.19)"
   ]
  },
  {
   "cell_type": "code",
   "execution_count": null,
   "id": "0438f2a5-834c-4187-aa40-60e995bbf47c",
   "metadata": {},
   "outputs": [],
   "source": [
    "from apogee_device import apogee_device"
   ]
  },
  {
   "cell_type": "markdown",
   "id": "df9e6034-9d22-4fe9-8c01-2b1e6dd9eb2f",
   "metadata": {},
   "source": [
    "### Set up the device for logging and periodical advertising"
   ]
  },
  {
   "cell_type": "code",
   "execution_count": null,
   "id": "7ddf77c5-f5ef-4289-aa4e-c74745a60910",
   "metadata": {},
   "outputs": [],
   "source": [
    "logfile = './logfile.csv'\n",
    "\n",
    "print('Searching for devices:')\n",
    "device_list = await apogee_device.search_devices(60)\n",
    "if(len(device_list) == 0):\n",
    "    print('  - Device not found, make sure it is broadcasting through a long press')\n",
    "else:\n",
    "    # Note: No support for multiple Apogee devices. This takes the first one found!\n",
    "    device_address = device_list[0]['address']\n",
    "    print('  - Found device at address', device_address)\n",
    "    # Now set up device\n",
    "    ucache = apogee_device.ucache(device_address) # Create an instance for this device address\n",
    "    await apogee_device.ucache.setup_routine(logfile, sampling_interval=10, logging_interval=60, advertising_freq=1, silent=False)\n",
    "print('Done...')"
   ]
  },
  {
   "cell_type": "code",
   "execution_count": null,
   "id": "6b6c0de2-b259-46ba-9a08-0390e3e709e1",
   "metadata": {},
   "outputs": [],
   "source": [
    "device_list = await apogee_device.search_devices(3)\n",
    "print(device_list)"
   ]
  },
  {
   "cell_type": "markdown",
   "id": "bf76210f-49a3-4676-aceb-5848d1e0d1ce",
   "metadata": {},
   "source": [
    "### Automatic monitoring of advertising, and data download"
   ]
  },
  {
   "cell_type": "code",
   "execution_count": null,
   "id": "0d1136c1-d6be-4475-9c13-581d09c95d1a",
   "metadata": {},
   "outputs": [],
   "source": [
    "datafile = './datafile.csv'\n",
    "logfile  = './logfile.csv'\n",
    "from_timestamp = '2023-02-23 12:00'\n",
    "\n",
    "device_list = await apogee_device.search_devices(70)\n",
    "if(len(device_list) == 0):\n",
    "    print('  - Device not found, make sure it is broadcasting through a long press')\n",
    "else:\n",
    "    # Note: No support for multiple Apogee devices. This takes the first one found!\n",
    "    device_address = device_list[0]['address']\n",
    "    print('  - Found device at address', device_address)\n",
    "    # Now gather the data\n",
    "    ucache = apogee_device.ucache(device_address) # Create an instance for this device address\n",
    "    awaitapogee_device.ucache.download_routine(datafile, logfile, from_timestamp, silent=False)\n",
    "print('Done...')"
   ]
  }
 ],
 "metadata": {
  "kernelspec": {
   "display_name": "scio",
   "language": "python",
   "name": "scio"
  },
  "language_info": {
   "codemirror_mode": {
    "name": "ipython",
    "version": 3
   },
   "file_extension": ".py",
   "mimetype": "text/x-python",
   "name": "python",
   "nbconvert_exporter": "python",
   "pygments_lexer": "ipython3",
   "version": "3.10.9"
  }
 },
 "nbformat": 4,
 "nbformat_minor": 5
}
